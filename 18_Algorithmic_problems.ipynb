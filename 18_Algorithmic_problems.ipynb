{
 "cells": [
  {
   "cell_type": "code",
   "execution_count": 1,
   "metadata": {
    "slideshow": {
     "slide_type": "skip"
    }
   },
   "outputs": [
    {
     "data": {
      "text/plain": [
       "{'scroll': True,\n",
       " 'start_slideshow_at': 'selected',\n",
       " 'theme': 'sky',\n",
       " 'transition': 'zoom'}"
      ]
     },
     "execution_count": 1,
     "metadata": {},
     "output_type": "execute_result"
    }
   ],
   "source": [
    "from traitlets.config.manager import BaseJSONConfigManager\n",
    "cm = BaseJSONConfigManager()\n",
    "cm.update('livereveal', {\n",
    "              'theme': 'sky',\n",
    "              'transition': 'zoom',\n",
    "              'start_slideshow_at': 'selected',\n",
    "            'scroll': True\n",
    "})"
   ]
  },
  {
   "cell_type": "markdown",
   "metadata": {
    "slideshow": {
     "slide_type": "slide"
    }
   },
   "source": [
    "# Занятие 18. \n",
    "\n",
    "## Решение алгоритмических задач.\n"
   ]
  },
  {
   "cell_type": "markdown",
   "metadata": {
    "slideshow": {
     "slide_type": "slide"
    }
   },
   "source": [
    "## План занятия\n",
    "\n",
    "- повторение\n",
    "- решение задач по всему блоку"
   ]
  },
  {
   "cell_type": "markdown",
   "metadata": {
    "slideshow": {
     "slide_type": "slide"
    }
   },
   "source": [
    "### Сложность алгоритмов \n"
   ]
  },
  {
   "cell_type": "markdown",
   "metadata": {
    "slideshow": {
     "slide_type": "fragment"
    }
   },
   "source": [
    "$$f(n) = \\mathcal{O}(g(n)) \\Leftrightarrow \\text{ найдется константа С, что начиная с некоторого n: } f(n) \\leq C\\cdot g(n) $$"
   ]
  },
  {
   "cell_type": "markdown",
   "metadata": {
    "slideshow": {
     "slide_type": "fragment"
    }
   },
   "source": [
    "$$f(n) = \\mathcal{\\Omega}(g(n)) \\Leftrightarrow \\text{ найдется константа С, что начиная с некоторого n: } f(n) \\geq C\\cdot g(n) $$"
   ]
  },
  {
   "cell_type": "markdown",
   "metadata": {
    "slideshow": {
     "slide_type": "fragment"
    }
   },
   "source": [
    "$$f(n) = \\mathcal{\\Theta}(g(n)) \\Leftrightarrow \\text{ найдутся константы С_1, С_2, что начиная с некоторого n: }  C_1\\cdot g(n) \\leq f(n) \\leq C_2 \\cdot g(n) $$"
   ]
  },
  {
   "cell_type": "markdown",
   "metadata": {
    "slideshow": {
     "slide_type": "slide"
    }
   },
   "source": [
    "$$ 2n^2 + 5n = \\mathcal{O}(4n^2) $$\n",
    "при $c = 1, n \\geq 3$"
   ]
  },
  {
   "cell_type": "markdown",
   "metadata": {
    "slideshow": {
     "slide_type": "fragment"
    }
   },
   "source": [
    "$$ 4n^2 = \\mathcal{O}(2n^2 + 5n) $$\n",
    "при $c = 2, n \\geq 1$"
   ]
  },
  {
   "cell_type": "markdown",
   "metadata": {
    "slideshow": {
     "slide_type": "fragment"
    }
   },
   "source": [
    "$$ 2n^2 + 5n = \\mathcal{\\Theta}(4n^2) $$"
   ]
  },
  {
   "cell_type": "markdown",
   "metadata": {
    "slideshow": {
     "slide_type": "fragment"
    }
   },
   "source": [
    "$$5n^2 = \\Omega(3n\\cdot log(n))$$"
   ]
  },
  {
   "cell_type": "markdown",
   "metadata": {
    "slideshow": {
     "slide_type": "slide"
    }
   },
   "source": [
    "## Динамическое программирование\n",
    "### Двумерные задачи"
   ]
  },
  {
   "cell_type": "markdown",
   "metadata": {
    "slideshow": {
     "slide_type": "slide"
    }
   },
   "source": [
    "#### Задача\n",
    "1) Дана таблица cost, где $cost[i][j] = $ стоимости перехода через эту ячейку. Требуется найти наименьший по стоимости путь от левой верхней клетки до правой нижней. Двигаться можно только вниз и вправо.   "
   ]
  },
  {
   "cell_type": "markdown",
   "metadata": {
    "slideshow": {
     "slide_type": "slide"
    }
   },
   "source": [
    "#### Решение\n",
    "- используем динамическое программирование: \n",
    "    - строим новую таблицу А\n",
    "    - в $A[i][j]$ будет храниться наименьший путь от начала до $(i,j)$ \n",
    "    - $A[i][j] = min(A[i-j][j], A[i][j-1]) + cost[i][j]$"
   ]
  },
  {
   "cell_type": "code",
   "execution_count": 5,
   "metadata": {
    "slideshow": {
     "slide_type": "slide"
    }
   },
   "outputs": [
    {
     "name": "stdout",
     "output_type": "stream",
     "text": [
      "2 3 1 5\n",
      "4 2 6 3\n",
      "5 4 9 2\n",
      "4 10 3 1\n"
     ]
    }
   ],
   "source": [
    "n = 4\n",
    "cost = [list(map(int, input().split())) for i in range(n)]"
   ]
  },
  {
   "cell_type": "code",
   "execution_count": 9,
   "metadata": {
    "slideshow": {
     "slide_type": "fragment"
    }
   },
   "outputs": [
    {
     "name": "stdout",
     "output_type": "stream",
     "text": [
      "17\n"
     ]
    }
   ],
   "source": [
    "A = [[0]*n for i in range(n)] \n",
    "A[0][0] = cost[0][0]\n",
    "for i in range(1, n):\n",
    "    A[0][i] = A[0][i-1] + cost[0][i]\n",
    "for i in range(1,n):\n",
    "    A[i][0] = A[i-1][0] + cost[i][0]\n",
    "    for j in range(1,n):\n",
    "        A[i][j] = min(A[i-1][j], A[i][j-1]) + cost[i][j]\n",
    "print(A[-1][-1])"
   ]
  },
  {
   "cell_type": "code",
   "execution_count": 10,
   "metadata": {
    "slideshow": {
     "slide_type": "slide"
    }
   },
   "outputs": [
    {
     "name": "stdout",
     "output_type": "stream",
     "text": [
      "2 3 1 5\n",
      "4 2 6 3\n",
      "5 4 9 2\n",
      "4 10 3 1\n"
     ]
    }
   ],
   "source": [
    "for row in cost:\n",
    "    print(*row)"
   ]
  },
  {
   "cell_type": "code",
   "execution_count": 11,
   "metadata": {
    "slideshow": {
     "slide_type": "fragment"
    }
   },
   "outputs": [
    {
     "name": "stdout",
     "output_type": "stream",
     "text": [
      "2 5 6 11\n",
      "6 7 12 14\n",
      "11 11 20 16\n",
      "15 21 23 17\n"
     ]
    }
   ],
   "source": [
    "for row in A:\n",
    "    print(*row)"
   ]
  },
  {
   "cell_type": "markdown",
   "metadata": {
    "slideshow": {
     "slide_type": "slide"
    }
   },
   "source": [
    "Как восстановить последовательность шагов?\n",
    "\n",
    "- начинаем двигаться с конца таблицы А\n",
    "- шагаем в наименьшее из двух чисел слева и сверху\n",
    "- продолжаем движение до начала и инвертируем список"
   ]
  },
  {
   "cell_type": "markdown",
   "metadata": {
    "slideshow": {
     "slide_type": "fragment"
    }
   },
   "source": [
    "#### Упражнение\n",
    "\n",
    "- написать функцию, которая восстанавливает минимальный путь "
   ]
  },
  {
   "cell_type": "markdown",
   "metadata": {
    "slideshow": {
     "slide_type": "slide"
    }
   },
   "source": [
    "#### Задача\n",
    "2) Играют 2 игрока на поле размером $M \\times N$. За 1 ход игрок может переставить фишку на неограниченное кол-во клеток вправо/вниз/по диагонали вниз. Игроки ходят по очереди. Проигрывает тот, чей ход начинается в нижней угловой клетке. \n",
    "\n",
    "Кто выиграет при рациональной игре?"
   ]
  },
  {
   "cell_type": "markdown",
   "metadata": {
    "slideshow": {
     "slide_type": "slide"
    }
   },
   "source": [
    "#### Решение\n",
    "\n",
    "- Заметим, что если $M = N$, то выиграет 1-й игрок, сходив до конца по диагонали. Также при $M =1$ или  $N=1$ выиграет 1-й\n",
    "\n",
    "- Далее, пойдем с конца и нарисуем эти выигрышные стратегии буквой \"В\". Если из клетки нет пути, кроме как в \"В\", то это буква \"П\". Продолжаем заполнение, поднимаясь снизу вверх.\n",
    "\n",
    "- Если в начальной клетке стоит буква \"В\", то выиграет 1-й игрок, иначе 2-й\n",
    "\n",
    "<img src=\"./pics/game.jpg\" width='50%'>"
   ]
  },
  {
   "cell_type": "code",
   "execution_count": 12,
   "metadata": {
    "slideshow": {
     "slide_type": "slide"
    }
   },
   "outputs": [
    {
     "name": "stdout",
     "output_type": "stream",
     "text": [
      "9 15\n",
      "1\n"
     ]
    }
   ],
   "source": [
    "n, m = map(int, input().split())\n",
    "B = [[0]*m for i in range(n)]\n",
    "# B[n-1][m-1] = 'L'\n",
    "\n",
    "def check_win(n,m):\n",
    "    for i in range(n):\n",
    "        B[i][m] = 'W'\n",
    "    for i in range(m):\n",
    "        B[n][i] = 'W'\n",
    "    for i in range(min(n,m), 0, -1):\n",
    "        B[n - i][m - i] = 'W' \n",
    "        \n",
    "for i in range(n - 1, -1, -1):\n",
    "    for j in range(m-1, -1, -1):\n",
    "        if B[i][j] == 0:\n",
    "            B[i][j] = 'L'\n",
    "            check_win(i, j)\n",
    "            \n",
    "if B[0][0] == 'W':\n",
    "    print(1)\n",
    "else:\n",
    "    print(0)"
   ]
  },
  {
   "cell_type": "code",
   "execution_count": 13,
   "metadata": {
    "slideshow": {
     "slide_type": "slide"
    }
   },
   "outputs": [
    {
     "name": "stdout",
     "output_type": "stream",
     "text": [
      "W L W W W W W W W W W W W W W\n",
      "W W W W W W W W W W L W W W W\n",
      "W W W W L W W W W W W W W W W\n",
      "W W W W W W W W W W W L W W W\n",
      "W W W W W W W L W W W W W W W\n",
      "W W W W W W W W W L W W W W W\n",
      "W W W W W W W W W W W W W L W\n",
      "W W W W W W W W W W W W L W W\n",
      "W W W W W W W W W W W W W W L\n"
     ]
    }
   ],
   "source": [
    "for row in B:\n",
    "    print(*row)"
   ]
  },
  {
   "cell_type": "markdown",
   "metadata": {
    "slideshow": {
     "slide_type": "slide"
    }
   },
   "source": [
    "### Задача об укладке рюкзака"
   ]
  },
  {
   "cell_type": "markdown",
   "metadata": {
    "slideshow": {
     "slide_type": "fragment"
    }
   },
   "source": [
    "Имеется $k$ вещей с массами $m_1, ..., m_k$  и стоимостями $c_1, ..., c_k$ соответственно. Грузоподъемность рюкзака $M$. Требуется наполнить рюкзак так, чтобы ценность была наибольшей"
   ]
  },
  {
   "cell_type": "markdown",
   "metadata": {
    "slideshow": {
     "slide_type": "slide"
    }
   },
   "source": [
    "#### Решение\n",
    "- будем использовать ДП!\n",
    "- строим табличку, где по одной оси мы будем увеличивать грузоподъемность рюкзака $W \\in [0, M]$, а по другой рассматривать предметы $m_1,...m_j$, где $j \\in [1, k]$\n",
    "- $a[j][w]$ --- максимальная стоимость для рюкзака весом W для предметов $m_1,...m_j$\n",
    "\n",
    "<img src=\"./pics/backpack.jpg\" width='50%'>"
   ]
  },
  {
   "cell_type": "markdown",
   "metadata": {
    "slideshow": {
     "slide_type": "slide"
    }
   },
   "source": [
    "Рассмотрим j-й предмет:\n",
    "- если его берем, то $a[j][w] = a[j-1][w - m[j]] + c[j]$\n",
    "- если не берем $a[j][w] = a[j-1][w]$\n",
    "- общая формула \n",
    "$$a[j][w] = max(a[j-1][w - m[j]] + c[j], a[j-1][w]) $$\n",
    "\n",
    "<img src=\"./pics/bp2.jpg\" width='100%'>"
   ]
  },
  {
   "cell_type": "code",
   "execution_count": 14,
   "metadata": {
    "slideshow": {
     "slide_type": "slide"
    }
   },
   "outputs": [],
   "source": [
    "m = [0, 4, 5, 3, 7, 6]\n",
    "c = [0, 5, 7, 4, 9, 8]\n",
    "n = len(m) - 1\n",
    "M = 16\n",
    "\n",
    "a = [[0]*(M + 1) for i in range(n + 1)]"
   ]
  },
  {
   "cell_type": "code",
   "execution_count": 15,
   "metadata": {
    "slideshow": {
     "slide_type": "fragment"
    }
   },
   "outputs": [
    {
     "name": "stdout",
     "output_type": "stream",
     "text": [
      "21\n"
     ]
    }
   ],
   "source": [
    "for j in range(1, n +1):\n",
    "    for w in range(1, M + 1):\n",
    "        if w - m[j] >= 0:\n",
    "            a[j][w] = max(a[j - 1][w - m[j]] + c[j], a[j - 1][w])\n",
    "        else:\n",
    "            a[j][w] = a[j - 1][w]\n",
    "print(a[-1][-1])"
   ]
  },
  {
   "cell_type": "code",
   "execution_count": 18,
   "metadata": {
    "slideshow": {
     "slide_type": "slide"
    }
   },
   "outputs": [
    {
     "data": {
      "text/plain": [
       "[[0, 0, 0, 0, 0, 0, 0, 0, 0, 0, 0, 0, 0, 0, 0, 0, 0],\n",
       " [0, 0, 0, 0, 5, 5, 5, 5, 5, 5, 5, 5, 5, 5, 5, 5, 5],\n",
       " [0, 0, 0, 0, 5, 7, 7, 7, 7, 12, 12, 12, 12, 12, 12, 12, 12],\n",
       " [0, 0, 0, 4, 5, 7, 7, 9, 11, 12, 12, 12, 16, 16, 16, 16, 16],\n",
       " [0, 0, 0, 4, 5, 7, 7, 9, 11, 12, 13, 14, 16, 16, 18, 20, 21],\n",
       " [0, 0, 0, 4, 5, 7, 8, 9, 11, 12, 13, 15, 16, 17, 19, 20, 21]]"
      ]
     },
     "execution_count": 18,
     "metadata": {},
     "output_type": "execute_result"
    }
   ],
   "source": [
    "a"
   ]
  },
  {
   "cell_type": "markdown",
   "metadata": {
    "slideshow": {
     "slide_type": "slide"
    }
   },
   "source": [
    "Как восстановить предметы из рюкзака?\n",
    "\n",
    "- начинаем двигаться с конца таблицы А\n",
    "- шагаем в наименьшее из двух чисел с индексами $[j - 1][w - m[j]]$ и $[j - 1][w]$\n",
    "- продолжаем движение до начала"
   ]
  },
  {
   "cell_type": "markdown",
   "metadata": {
    "slideshow": {
     "slide_type": "fragment"
    }
   },
   "source": [
    "#### Упражнение\n",
    "\n",
    "- написать функцию, которая восстанавливает предметы из рюкзака"
   ]
  },
  {
   "cell_type": "markdown",
   "metadata": {
    "slideshow": {
     "slide_type": "slide"
    }
   },
   "source": [
    "### Линейные задачи"
   ]
  },
  {
   "cell_type": "markdown",
   "metadata": {
    "slideshow": {
     "slide_type": "fragment"
    }
   },
   "source": [
    "#### Задача\n",
    "- Дан массив неотрицательных чисел. Найти отрезок с фиксированной суммой M"
   ]
  },
  {
   "cell_type": "markdown",
   "metadata": {
    "slideshow": {
     "slide_type": "slide"
    }
   },
   "source": [
    "#### Решение\n",
    "- Посчитать сумму на всех подотрезках и сравнить с М. \n",
    "Сложность $\\mathcal{O}(N^2)$\n",
    "\n",
    "- метод двух указателей\n",
    "    - инициализируем в начале массива\n",
    "    - двигаем правый, если сумма между указателями меньше M, иначе двигаем левый\n",
    "    - продолжаем до конца массива, либо пока не получим M\n",
    " \n",
    "    "
   ]
  },
  {
   "cell_type": "code",
   "execution_count": 34,
   "metadata": {
    "slideshow": {
     "slide_type": "slide"
    }
   },
   "outputs": [
    {
     "name": "stdout",
     "output_type": "stream",
     "text": [
      "Yes\n"
     ]
    }
   ],
   "source": [
    "x = [8, 1, 2, 10, 2, 7, 9, 2, 5]\n",
    "M = 15\n",
    "\n",
    "l = r = 0\n",
    "cur_sum = 0\n",
    "while r < len(x):\n",
    "    if cur_sum == M:\n",
    "        break\n",
    "    elif cur_sum < M:\n",
    "        cur_sum += x[r] \n",
    "        r += 1\n",
    "    else:\n",
    "        cur_sum -= x[l]\n",
    "        l += 1\n",
    "        \n",
    "if r == len(x):\n",
    "    while l < len(x):\n",
    "        if cur_sum == M:\n",
    "            break\n",
    "        cur_sum -= x[l]\n",
    "        l += 1\n",
    "\n",
    "if cur_sum == M:\n",
    "    print('Yes')\n",
    "else:\n",
    "    print('No')"
   ]
  },
  {
   "cell_type": "markdown",
   "metadata": {
    "slideshow": {
     "slide_type": "slide"
    }
   },
   "source": [
    "#### Задача\n",
    "- Задано множество символов. Необходимо вывести все перестановки этих символов"
   ]
  },
  {
   "cell_type": "markdown",
   "metadata": {
    "slideshow": {
     "slide_type": "slide"
    }
   },
   "source": [
    "#### Решение\n",
    "- всего перестановок будет $n!$, где $n$ - количество символов в множестве\n",
    "- рекурсивный вызов функции f(my_set, strs)"
   ]
  },
  {
   "cell_type": "code",
   "execution_count": 41,
   "metadata": {
    "slideshow": {
     "slide_type": "slide"
    }
   },
   "outputs": [],
   "source": [
    "myset = {'a', 'd', 'b'}\n",
    "\n",
    "def permutations(my_set, strs=''):\n",
    "    if len(my_set) > 0:\n",
    "        for elem in my_set:\n",
    "            permutations(my_set - {elem}, strs + str(elem))\n",
    "    else:\n",
    "        print(strs)"
   ]
  },
  {
   "cell_type": "code",
   "execution_count": 42,
   "metadata": {
    "slideshow": {
     "slide_type": "fragment"
    }
   },
   "outputs": [
    {
     "name": "stdout",
     "output_type": "stream",
     "text": [
      "bad\n",
      "bda\n",
      "dba\n",
      "dab\n",
      "abd\n",
      "adb\n"
     ]
    }
   ],
   "source": [
    "permutations(myset)"
   ]
  },
  {
   "cell_type": "code",
   "execution_count": 2,
   "metadata": {
    "slideshow": {
     "slide_type": "skip"
    }
   },
   "outputs": [
    {
     "data": {
      "text/html": [
       "<link href='http://fonts.googleapis.com/css?family=Fenix' rel='stylesheet' type='text/css'>\n",
       "<link href='http://fonts.googleapis.com/css?family=Alegreya+Sans:100,300,400,500,700,800,900,100italic,300italic,400italic,500italic,700italic,800italic,900italic' rel='stylesheet' type='text/css'>\n",
       "<link href='http://fonts.googleapis.com/css?family=Source+Code+Pro:300,400' rel='stylesheet' type='text/css'>\n",
       "<style>\n",
       "    @font-face {\n",
       "        font-family: \"Computer Modern\";\n",
       "        src: url('http://mirrors.ctan.org/fonts/cm-unicode/fonts/otf/cmunss.otf');\n",
       "    }\n",
       "    div.cell{\n",
       "        /*width:80%;*/\n",
       "        /*margin-left:auto !important;\n",
       "        margin-right:auto;*/\n",
       "    }\n",
       "    h1 {\n",
       "        font-family: 'Alegreya Sans', sans-serif;\n",
       "    }\n",
       "    h2 {\n",
       "        font-family: 'Fenix', serif;\n",
       "    }\n",
       "    h3{\n",
       "\t\tfont-family: 'Fenix', serif;\n",
       "        margin-top:12px;\n",
       "        margin-bottom: 3px;\n",
       "       }\n",
       "\th4{\n",
       "\t\tfont-family: 'Fenix', serif;\n",
       "       }\n",
       "    h5 {\n",
       "        font-family: 'Alegreya Sans', sans-serif;\n",
       "    }\t   \n",
       "    div.text_cell_render{\n",
       "        font-family: 'Alegreya Sans',Computer Modern, \"Helvetica Neue\", Arial, Helvetica, Geneva, sans-serif;\n",
       "        line-height: 1.2;\n",
       "        font-size: 120%;\n",
       "        /*width:70%;*/\n",
       "        /*margin-left:auto;*/\n",
       "        margin-right:auto;\n",
       "    }\n",
       "    .CodeMirror{\n",
       "            font-family: \"Source Code Pro\";\n",
       "\t\t\tfont-size: 90%;\n",
       "    }\n",
       "/*    .prompt{\n",
       "        display: None;\n",
       "    }*/\n",
       "    .text_cell_render h1 {\n",
       "        font-weight: 200;\n",
       "        font-size: 50pt;\n",
       "\t\tline-height: 110%;\n",
       "        color:#CD2305;\n",
       "        margin-bottom: 0.5em;\n",
       "        margin-top: 0.5em;\n",
       "        display: block;\n",
       "    }\t\n",
       "    .text_cell_render h5 {\n",
       "        font-weight: 300;\n",
       "        font-size: 16pt;\n",
       "        color: #CD2305;\n",
       "        font-style: italic;\n",
       "        margin-bottom: .5em;\n",
       "        margin-top: 0.5em;\n",
       "        display: block;\n",
       "    }\n",
       "    \n",
       "    li {\n",
       "        line-height: 110%;\n",
       "    }\n",
       "    .warning{\n",
       "        color: rgb( 240, 20, 20 )\n",
       "        }  \n",
       "\n",
       "</style>\n",
       "\n",
       "<script>\n",
       "    MathJax.Hub.Config({\n",
       "                        TeX: {\n",
       "                           extensions: [\"AMSmath.js\"]\n",
       "                           },\n",
       "                tex2jax: {\n",
       "                    inlineMath: [ ['$','$'], [\"\\\\(\",\"\\\\)\"] ],\n",
       "                    displayMath: [ ['$$','$$'], [\"\\\\[\",\"\\\\]\"] ]\n",
       "                },\n",
       "                displayAlign: 'center', // Change this to 'center' to center equations.\n",
       "                \"HTML-CSS\": {\n",
       "                    styles: {'.MathJax_Display': {\"margin\": 4}}\n",
       "                }\n",
       "        });\n",
       "</script>\n"
      ],
      "text/plain": [
       "<IPython.core.display.HTML object>"
      ]
     },
     "execution_count": 2,
     "metadata": {},
     "output_type": "execute_result"
    }
   ],
   "source": [
    "from IPython.core.display import HTML\n",
    "def css_styling():\n",
    "    styles = open(\"./styles/custom.css\", \"r\").read()\n",
    "    return HTML(styles)\n",
    "css_styling()"
   ]
  },
  {
   "cell_type": "code",
   "execution_count": null,
   "metadata": {},
   "outputs": [],
   "source": []
  }
 ],
 "metadata": {
  "celltoolbar": "Slideshow",
  "kernelspec": {
   "display_name": "dmia",
   "language": "python",
   "name": "dmia"
  },
  "language_info": {
   "codemirror_mode": {
    "name": "ipython",
    "version": 3
   },
   "file_extension": ".py",
   "mimetype": "text/x-python",
   "name": "python",
   "nbconvert_exporter": "python",
   "pygments_lexer": "ipython3",
   "version": "3.6.7"
  }
 },
 "nbformat": 4,
 "nbformat_minor": 2
}
