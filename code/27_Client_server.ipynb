{
 "cells": [
  {
   "cell_type": "code",
   "execution_count": 1,
   "metadata": {
    "slideshow": {
     "slide_type": "skip"
    }
   },
   "outputs": [
    {
     "data": {
      "text/plain": [
       "{'scroll': True,\n",
       " 'start_slideshow_at': 'selected',\n",
       " 'theme': 'sky',\n",
       " 'transition': 'zoom'}"
      ]
     },
     "execution_count": 1,
     "metadata": {},
     "output_type": "execute_result"
    }
   ],
   "source": [
    "from traitlets.config.manager import BaseJSONConfigManager\n",
    "cm = BaseJSONConfigManager()\n",
    "cm.update('livereveal', {\n",
    "              'theme': 'sky',\n",
    "              'transition': 'zoom',\n",
    "              'start_slideshow_at': 'selected',\n",
    "            'scroll': True\n",
    "})"
   ]
  },
  {
   "cell_type": "markdown",
   "metadata": {
    "slideshow": {
     "slide_type": "slide"
    }
   },
   "source": [
    "# Занятие 27. \n",
    "\n",
    "## Системное программирование и сети.\n"
   ]
  },
  {
   "cell_type": "markdown",
   "metadata": {
    "slideshow": {
     "slide_type": "slide"
    }
   },
   "source": [
    "## План занятия\n",
    "\n",
    "- повторение многопоточности\n",
    "- клиент-серверные программы"
   ]
  },
  {
   "cell_type": "markdown",
   "metadata": {
    "slideshow": {
     "slide_type": "slide"
    }
   },
   "source": [
    "Внутри одного ядра процессора все задачи выполняются **последовательно**. Иллюзия выполнения нескольких задач возникает из-за планировщика задач, который постоянно переключает контекст работы. Ядра процессора работают **параллельно**"
   ]
  },
  {
   "cell_type": "markdown",
   "metadata": {
    "slideshow": {
     "slide_type": "slide"
    }
   },
   "source": [
    "#### В чем отличие потоков от процессов?\n",
    " У процессов **неразделяемая память**, а у потоков **общая**. Процессы требуют больше памяти."
   ]
  },
  {
   "cell_type": "markdown",
   "metadata": {
    "slideshow": {
     "slide_type": "slide"
    }
   },
   "source": [
    "#### Основные механизмы решения многопоточных задач\n",
    "- мьютексы \n",
    "- семафоры\n",
    "- условные переменные"
   ]
  },
  {
   "cell_type": "markdown",
   "metadata": {
    "slideshow": {
     "slide_type": "fragment"
    }
   },
   "source": [
    "- Мьютексы замедляют работу многопоточной программы, но могут быть допустимы, если внутри них содержится малая часть программы. \n",
    "- для 4-х ядерного процессора оптимальное количество потоков --- 4"
   ]
  },
  {
   "cell_type": "markdown",
   "metadata": {
    "slideshow": {
     "slide_type": "slide"
    }
   },
   "source": [
    "## Cети"
   ]
  },
  {
   "cell_type": "markdown",
   "metadata": {
    "slideshow": {
     "slide_type": "fragment"
    }
   },
   "source": [
    "### Модель OSI\n",
    "- Прикладной уровень\n",
    "- Уровень представления\n",
    "- Сеансовый уровень\n",
    "- Транспортный уровень\n",
    "- Сетевой уровень\n",
    "- Канальный уровень\n",
    "- Физический уровень\n",
    "\n",
    "Подробнее ($\\href{https://ru.wikipedia.org/wiki/%D0%A1%D0%B5%D1%82%D0%B5%D0%B2%D0%B0%D1%8F_%D0%BC%D0%BE%D0%B4%D0%B5%D0%BB%D1%8C_OSI}{wiki}$)"
   ]
  },
  {
   "cell_type": "markdown",
   "metadata": {
    "slideshow": {
     "slide_type": "slide"
    }
   },
   "source": [
    "### Клиент-серверная архитектура"
   ]
  },
  {
   "cell_type": "markdown",
   "metadata": {
    "slideshow": {
     "slide_type": "fragment"
    }
   },
   "source": [
    "Клиент --- веб-браузер, принимающий запрос от пользователя.\n",
    "\n",
    "Сервер --- машина, которая отвечает на запросы.\n",
    "\n",
    "<img src=\"./pics/client.png\" width='50%'>"
   ]
  },
  {
   "cell_type": "markdown",
   "metadata": {
    "slideshow": {
     "slide_type": "slide"
    }
   },
   "source": [
    "### Пишем сервер"
   ]
  },
  {
   "cell_type": "code",
   "execution_count": null,
   "metadata": {
    "slideshow": {
     "slide_type": "fragment"
    }
   },
   "outputs": [],
   "source": [
    "import socket\n",
    "\n",
    "# https://docs.python.org/3/library/socket.html\n",
    "sock=socket.socket(socket.AF_INET, socket.SOCK_STREAM) # дефолтные параметры\n",
    "sock.bind((\"127.0.0.1\", 10002))   # max port 65535\n",
    "sock.listen(socket.SOMAXCONN)  ##дефолтные параметры\n",
    "\n",
    "conn, addr = sock.accept()\n",
    "while True:\n",
    "    data = conn.recv(1024)\n",
    "    if not data:\n",
    "        break\n",
    "    print(data.decode(\"utf8\"))\n",
    "    \n",
    "conn.close()\n",
    "sock.close()"
   ]
  },
  {
   "cell_type": "markdown",
   "metadata": {
    "slideshow": {
     "slide_type": "slide"
    }
   },
   "source": [
    "### Пишем клиента  (в отдельном ноутбуке)"
   ]
  },
  {
   "cell_type": "markdown",
   "metadata": {
    "slideshow": {
     "slide_type": "fragment"
    }
   },
   "source": [
    "#### Подключаемся к серверу"
   ]
  },
  {
   "cell_type": "code",
   "execution_count": null,
   "metadata": {
    "slideshow": {
     "slide_type": "fragment"
    }
   },
   "outputs": [],
   "source": [
    "import socket\n",
    "\n",
    "sock = socket.socket()\n",
    "sock.connect((\"127.0.0.1\", 10001))"
   ]
  },
  {
   "cell_type": "markdown",
   "metadata": {
    "slideshow": {
     "slide_type": "slide"
    }
   },
   "source": [
    "#### Шлем сообщение"
   ]
  },
  {
   "cell_type": "code",
   "execution_count": null,
   "metadata": {
    "slideshow": {
     "slide_type": "fragment"
    }
   },
   "outputs": [],
   "source": [
    "sock.sendall(\"ping\".encode(\"utf8\"))"
   ]
  },
  {
   "cell_type": "markdown",
   "metadata": {
    "slideshow": {
     "slide_type": "fragment"
    }
   },
   "source": [
    "#### Закрываем соединение вместе с сервером\n"
   ]
  },
  {
   "cell_type": "code",
   "execution_count": null,
   "metadata": {
    "slideshow": {
     "slide_type": "fragment"
    }
   },
   "outputs": [],
   "source": [
    "sock.close()"
   ]
  },
  {
   "cell_type": "markdown",
   "metadata": {
    "slideshow": {
     "slide_type": "fragment"
    }
   },
   "source": [
    "После разрыва соедениения снова записать не получится."
   ]
  },
  {
   "cell_type": "markdown",
   "metadata": {
    "slideshow": {
     "slide_type": "slide"
    }
   },
   "source": [
    "#### Вторая версия сервера"
   ]
  },
  {
   "cell_type": "code",
   "execution_count": null,
   "metadata": {
    "slideshow": {
     "slide_type": "fragment"
    }
   },
   "outputs": [],
   "source": [
    "import socket\n",
    "\n",
    "with socket.socket() as sock:\n",
    "    sock.bind((\"127.0.0.1\", 10001))\n",
    "    sock.listen()\n",
    "    \n",
    "    while True:\n",
    "        conn, addr = sock.accept()\n",
    "        with conn:\n",
    "            while True:\n",
    "                data = conn.recv(1024)\n",
    "                if not data:\n",
    "                    break\n",
    "                print(data.decode(\"utf8\"))"
   ]
  },
  {
   "cell_type": "markdown",
   "metadata": {
    "slideshow": {
     "slide_type": "slide"
    }
   },
   "source": [
    "#### Более короткая запись подключения клиента"
   ]
  },
  {
   "cell_type": "code",
   "execution_count": null,
   "metadata": {
    "slideshow": {
     "slide_type": "fragment"
    }
   },
   "outputs": [],
   "source": [
    "sock = socket.create_connection((\"127.0.0.1\", 10001))\n",
    "sock.sendall(\"ping\".encode(\"utf8\"))\n",
    "sock.close()"
   ]
  },
  {
   "cell_type": "markdown",
   "metadata": {
    "slideshow": {
     "slide_type": "slide"
    }
   },
   "source": [
    "Теперь с помощью сервера передадим данные клиенту"
   ]
  },
  {
   "cell_type": "code",
   "execution_count": null,
   "metadata": {
    "slideshow": {
     "slide_type": "fragment"
    }
   },
   "outputs": [],
   "source": [
    "import socket\n",
    "\n",
    "with socket.socket() as sock:\n",
    "    sock.bind((\"127.0.0.1\", 10001))\n",
    "    sock.listen()\n",
    "    \n",
    "    while True:\n",
    "        conn, addr = sock.accept()\n",
    "        with conn:\n",
    "            while True:\n",
    "                data = conn.recv(1024)\n",
    "                conn.send(b'Hello, I\"m a server')\n",
    "                if not data:\n",
    "                    break\n",
    "                print(data.decode(\"utf8\"))"
   ]
  },
  {
   "cell_type": "markdown",
   "metadata": {
    "slideshow": {
     "slide_type": "slide"
    }
   },
   "source": [
    "Для того, чтобы принять сообщение добавим метод ``recv`` для клиента"
   ]
  },
  {
   "cell_type": "code",
   "execution_count": null,
   "metadata": {
    "slideshow": {
     "slide_type": "fragment"
    }
   },
   "outputs": [],
   "source": [
    "sock = socket.create_connection((\"127.0.0.1\", 10001))\n",
    "sock.sendall(\"ping\".encode(\"utf8\"))\n",
    "resp = sock.recv(1024)\n",
    "print(resp)"
   ]
  },
  {
   "cell_type": "markdown",
   "metadata": {
    "slideshow": {
     "slide_type": "fragment"
    }
   },
   "source": [
    "Если и клиент и сервер ждут действий друг от друга, то происходит взаимная блокировка (deadlock), в результате которой соединение зависает бесконечно долго."
   ]
  },
  {
   "cell_type": "markdown",
   "metadata": {
    "slideshow": {
     "slide_type": "slide"
    }
   },
   "source": [
    "### Таймауты "
   ]
  },
  {
   "cell_type": "markdown",
   "metadata": {
    "slideshow": {
     "slide_type": "slide"
    }
   },
   "source": [
    "Добавим ограничение на промежутки времени между активных действий пользователя ``settimeout``"
   ]
  },
  {
   "cell_type": "code",
   "execution_count": null,
   "metadata": {
    "slideshow": {
     "slide_type": "fragment"
    }
   },
   "outputs": [],
   "source": [
    "# для сервера\n",
    "import time\n",
    "import socket\n",
    "\n",
    "with socket.socket() as sock:\n",
    "    sock.bind((\"\", 10002)) \n",
    "    sock.listen()\n",
    "    while True:\n",
    "#         time.sleep(4)\n",
    "        conn, addr = sock.accept()\n",
    "        \n",
    "        conn.settimeout(3)  # timeout := None|0|gt 0 \n",
    "        with conn:\n",
    "            while True:\n",
    "                try:\n",
    "                    data = conn.recv(1024)\n",
    "#                     print(len(data))\n",
    "                except socket.timeout:\n",
    "                    print(\"close connection by timeout\")\n",
    "                    break\n",
    "                \n",
    "                if not data:\n",
    "                    break\n",
    "                print(data.decode(\"utf8\"))"
   ]
  },
  {
   "cell_type": "code",
   "execution_count": null,
   "metadata": {
    "slideshow": {
     "slide_type": "slide"
    }
   },
   "outputs": [],
   "source": [
    "# для клиента \n",
    "with socket.create_connection((\"127.0.0.1\", 10002), 3) as sock:\n",
    "    # set socket read timeout\n",
    "    sock.settimeout(2)\n",
    "    try:\n",
    "        sock.sendall(\"ping\".encode(\"utf8\"))\n",
    "        resp= sock.recv(1024)\n",
    "        print(resp)\n",
    "        resp = sock.recv(1024)\n",
    "    except socket.timeout:\n",
    "        print(\"send data timeout\")\n",
    "    except socket.error as ex:\n",
    "        print(\"send data error:\", ex)"
   ]
  },
  {
   "cell_type": "markdown",
   "metadata": {
    "slideshow": {
     "slide_type": "slide"
    }
   },
   "source": [
    "#### Передача больших данных"
   ]
  },
  {
   "cell_type": "code",
   "execution_count": null,
   "metadata": {
    "slideshow": {
     "slide_type": "fragment"
    }
   },
   "outputs": [],
   "source": [
    "from random import randint\n",
    "\n",
    "x = [randint(1,100) for i in range(40)]\n",
    "\n",
    "with socket.create_connection((\"127.0.0.1\", 10002), 3) as sock:\n",
    "    # set socket read timeout\n",
    "    sock.settimeout(2)\n",
    "    try:\n",
    "        y= sorted(x)\n",
    "        for i in y:\n",
    "            sock.sendall(bytes(i))\n",
    "    except socket.timeout:\n",
    "        print(\"send data timeout\")\n",
    "    except socket.error as ex:\n",
    "        print(\"send data error:\", ex)\n"
   ]
  },
  {
   "cell_type": "markdown",
   "metadata": {
    "slideshow": {
     "slide_type": "slide"
    }
   },
   "source": [
    "### Одновременная работа нескольких соединений"
   ]
  },
  {
   "cell_type": "markdown",
   "metadata": {
    "slideshow": {
     "slide_type": "slide"
    }
   },
   "source": [
    "#### Cервер"
   ]
  },
  {
   "cell_type": "code",
   "execution_count": 5,
   "metadata": {
    "slideshow": {
     "slide_type": "fragment"
    }
   },
   "outputs": [],
   "source": [
    "import time\n",
    "import socket \n",
    "with socket.socket() as sock:\n",
    "    sock.bind((\"\", 10002))\n",
    "    sock.listen(2)\n",
    "    while True:\n",
    "        conn, addr = sock.accept()\n",
    "        with conn:\n",
    "            while True:\n",
    "                try:\n",
    "                    data = conn.recv(1024)\n",
    "                except socket.timeout:\n",
    "                    print(\"close connection by timeout\")\n",
    "                    break\n",
    "                \n",
    "                if not data:\n",
    "                    break\n",
    "                print(data.decode(\"utf8\"))"
   ]
  },
  {
   "cell_type": "markdown",
   "metadata": {
    "slideshow": {
     "slide_type": "slide"
    }
   },
   "source": [
    "#### Клиент"
   ]
  },
  {
   "cell_type": "code",
   "execution_count": null,
   "metadata": {
    "slideshow": {
     "slide_type": "fragment"
    }
   },
   "outputs": [],
   "source": [
    "import socket \n",
    "\n",
    "sock = socket.create_connection((\"127.0.0.1\", 10001))\n",
    "sock2 = socket.create_connection((\"127.0.0.1\", 10001))"
   ]
  },
  {
   "cell_type": "code",
   "execution_count": null,
   "metadata": {
    "slideshow": {
     "slide_type": "fragment"
    }
   },
   "outputs": [],
   "source": [
    "sock.sendall(\"ping\".encode(\"utf8\"))\n",
    "sock2.sendall(\"ping2\".encode(\"utf8\"))"
   ]
  },
  {
   "cell_type": "code",
   "execution_count": null,
   "metadata": {
    "slideshow": {
     "slide_type": "fragment"
    }
   },
   "outputs": [],
   "source": [
    "sock.close()"
   ]
  },
  {
   "cell_type": "markdown",
   "metadata": {
    "slideshow": {
     "slide_type": "fragment"
    }
   },
   "source": [
    "В таком режиме обрабатывается только 1 клиент и второй ожидает в очереди."
   ]
  },
  {
   "cell_type": "markdown",
   "metadata": {
    "slideshow": {
     "slide_type": "slide"
    }
   },
   "source": [
    "##### Для каждого клиента будет добавлять новый поток"
   ]
  },
  {
   "cell_type": "markdown",
   "metadata": {
    "slideshow": {
     "slide_type": "fragment"
    }
   },
   "source": [
    "#### Cервер"
   ]
  },
  {
   "cell_type": "code",
   "execution_count": null,
   "metadata": {
    "slideshow": {
     "slide_type": "fragment"
    }
   },
   "outputs": [],
   "source": [
    "import threading\n",
    "import socket\n",
    "\n",
    "def process_request(conn, addr):\n",
    "    print(\"connected client:\", addr)\n",
    "    with conn:\n",
    "        while True:\n",
    "            data = conn.recv(1024)\n",
    "            if not data:\n",
    "                break\n",
    "            print(data.decode(\"utf8\"))\n",
    "\n",
    "with socket.socket() as sock:\n",
    "    sock.bind((\"\", 10001))\n",
    "    sock.listen()\n",
    "    while True:\n",
    "        conn, addr = sock.accept()\n",
    "        th = threading.Thread(target=process_request, args=(conn, addr))\n",
    "        th.start()\n"
   ]
  },
  {
   "cell_type": "markdown",
   "metadata": {
    "slideshow": {
     "slide_type": "slide"
    }
   },
   "source": [
    "#### Клиент"
   ]
  },
  {
   "cell_type": "code",
   "execution_count": null,
   "metadata": {
    "slideshow": {
     "slide_type": "fragment"
    }
   },
   "outputs": [],
   "source": [
    "import socket \n",
    "\n",
    "sock = socket.create_connection((\"127.0.0.1\", 10001))\n",
    "sock2 = socket.create_connection((\"127.0.0.1\", 10001))"
   ]
  },
  {
   "cell_type": "code",
   "execution_count": null,
   "metadata": {
    "slideshow": {
     "slide_type": "fragment"
    }
   },
   "outputs": [],
   "source": [
    "sock.sendall(\"ping\".encode(\"utf8\"))\n",
    "sock2.sendall(\"ping2\".encode(\"utf8\"))"
   ]
  },
  {
   "cell_type": "code",
   "execution_count": null,
   "metadata": {
    "slideshow": {
     "slide_type": "slide"
    }
   },
   "outputs": [],
   "source": [
    "sock3 = socket.create_connection((\"127.0.0.1\", 10001))"
   ]
  },
  {
   "cell_type": "code",
   "execution_count": null,
   "metadata": {
    "slideshow": {
     "slide_type": "fragment"
    }
   },
   "outputs": [],
   "source": [
    "sock.sendall(\"ping\".encode(\"utf8\"))\n",
    "sock2.sendall(\"ping2\".encode(\"utf8\"))\n",
    "sock3.sendall(\"ping3\".encode(\"utf8\"))"
   ]
  },
  {
   "cell_type": "code",
   "execution_count": 2,
   "metadata": {
    "slideshow": {
     "slide_type": "notes"
    }
   },
   "outputs": [
    {
     "data": {
      "text/html": [
       "<link href='http://fonts.googleapis.com/css?family=Fenix' rel='stylesheet' type='text/css'>\n",
       "<link href='http://fonts.googleapis.com/css?family=Alegreya+Sans:100,300,400,500,700,800,900,100italic,300italic,400italic,500italic,700italic,800italic,900italic' rel='stylesheet' type='text/css'>\n",
       "<link href='http://fonts.googleapis.com/css?family=Source+Code+Pro:300,400' rel='stylesheet' type='text/css'>\n",
       "<style>\n",
       "    @font-face {\n",
       "        font-family: \"Computer Modern\";\n",
       "        src: url('http://mirrors.ctan.org/fonts/cm-unicode/fonts/otf/cmunss.otf');\n",
       "    }\n",
       "    div.cell{\n",
       "        /*width:80%;*/\n",
       "        /*margin-left:auto !important;\n",
       "        margin-right:auto;*/\n",
       "    }\n",
       "    h1 {\n",
       "        font-family: 'Alegreya Sans', sans-serif;\n",
       "    }\n",
       "    h2 {\n",
       "        font-family: 'Fenix', serif;\n",
       "    }\n",
       "    h3{\n",
       "\t\tfont-family: 'Fenix', serif;\n",
       "        margin-top:12px;\n",
       "        margin-bottom: 3px;\n",
       "       }\n",
       "\th4{\n",
       "\t\tfont-family: 'Fenix', serif;\n",
       "       }\n",
       "    h5 {\n",
       "        font-family: 'Alegreya Sans', sans-serif;\n",
       "    }\t   \n",
       "    div.text_cell_render{\n",
       "        font-family: 'Alegreya Sans',Computer Modern, \"Helvetica Neue\", Arial, Helvetica, Geneva, sans-serif;\n",
       "        line-height: 1.2;\n",
       "        font-size: 120%;\n",
       "        /*width:70%;*/\n",
       "        /*margin-left:auto;*/\n",
       "        margin-right:auto;\n",
       "    }\n",
       "    .CodeMirror{\n",
       "            font-family: \"Source Code Pro\";\n",
       "\t\t\tfont-size: 90%;\n",
       "    }\n",
       "/*    .prompt{\n",
       "        display: None;\n",
       "    }*/\n",
       "    .text_cell_render h1 {\n",
       "        font-weight: 200;\n",
       "        font-size: 50pt;\n",
       "\t\tline-height: 110%;\n",
       "        color:#CD2305;\n",
       "        margin-bottom: 0.5em;\n",
       "        margin-top: 0.5em;\n",
       "        display: block;\n",
       "    }\t\n",
       "    .text_cell_render h5 {\n",
       "        font-weight: 300;\n",
       "        font-size: 16pt;\n",
       "        color: #CD2305;\n",
       "        font-style: italic;\n",
       "        margin-bottom: .5em;\n",
       "        margin-top: 0.5em;\n",
       "        display: block;\n",
       "    }\n",
       "    \n",
       "    li {\n",
       "        line-height: 110%;\n",
       "    }\n",
       "    .warning{\n",
       "        color: rgb( 240, 20, 20 )\n",
       "        }  \n",
       "\n",
       "</style>\n",
       "\n",
       "<script>\n",
       "    MathJax.Hub.Config({\n",
       "                        TeX: {\n",
       "                           extensions: [\"AMSmath.js\"]\n",
       "                           },\n",
       "                tex2jax: {\n",
       "                    inlineMath: [ ['$','$'], [\"\\\\(\",\"\\\\)\"] ],\n",
       "                    displayMath: [ ['$$','$$'], [\"\\\\[\",\"\\\\]\"] ]\n",
       "                },\n",
       "                displayAlign: 'center', // Change this to 'center' to center equations.\n",
       "                \"HTML-CSS\": {\n",
       "                    styles: {'.MathJax_Display': {\"margin\": 4}}\n",
       "                }\n",
       "        });\n",
       "</script>\n"
      ],
      "text/plain": [
       "<IPython.core.display.HTML object>"
      ]
     },
     "execution_count": 2,
     "metadata": {},
     "output_type": "execute_result"
    }
   ],
   "source": [
    "from IPython.core.display import HTML\n",
    "def css_styling():\n",
    "    styles = open(\"./styles/custom.css\", \"r\").read()\n",
    "    return HTML(styles)\n",
    "css_styling()"
   ]
  }
 ],
 "metadata": {
  "celltoolbar": "Slideshow",
  "kernelspec": {
   "display_name": "dmia",
   "language": "python",
   "name": "dmia"
  },
  "language_info": {
   "codemirror_mode": {
    "name": "ipython",
    "version": 3
   },
   "file_extension": ".py",
   "mimetype": "text/x-python",
   "name": "python",
   "nbconvert_exporter": "python",
   "pygments_lexer": "ipython3",
   "version": "3.6.7"
  }
 },
 "nbformat": 4,
 "nbformat_minor": 2
}
