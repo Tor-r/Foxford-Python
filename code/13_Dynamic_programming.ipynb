{
 "cells": [
  {
   "cell_type": "code",
   "execution_count": 90,
   "metadata": {
    "slideshow": {
     "slide_type": "skip"
    }
   },
   "outputs": [
    {
     "data": {
      "text/plain": [
       "{'scroll': True,\n",
       " 'start_slideshow_at': 'selected',\n",
       " 'theme': 'sky',\n",
       " 'transition': 'zoom'}"
      ]
     },
     "execution_count": 90,
     "metadata": {},
     "output_type": "execute_result"
    }
   ],
   "source": [
    "from traitlets.config.manager import BaseJSONConfigManager\n",
    "cm = BaseJSONConfigManager()\n",
    "cm.update('livereveal', {\n",
    "              'theme': 'sky',\n",
    "              'transition': 'zoom',\n",
    "              'start_slideshow_at': 'selected',\n",
    "            'scroll': True\n",
    "})"
   ]
  },
  {
   "cell_type": "markdown",
   "metadata": {
    "slideshow": {
     "slide_type": "slide"
    }
   },
   "source": [
    "# Занятие 13. \n",
    "\n",
    "## Динамическое программирование\n"
   ]
  },
  {
   "cell_type": "markdown",
   "metadata": {
    "slideshow": {
     "slide_type": "slide"
    }
   },
   "source": [
    "## План занятия\n",
    "\n",
    "- квадратичные сортировки (повторение)\n",
    "- задачи нахождения количества способов\n",
    "    - метод перебора\n",
    "    - комбинаторный метод\n",
    "    - динамическое программирование"
   ]
  },
  {
   "cell_type": "markdown",
   "metadata": {
    "slideshow": {
     "slide_type": "slide"
    }
   },
   "source": [
    "## Квадратичные сортировки (повторение)\n",
    "\n",
    "- сортировка выбором\n",
    "- сортировка пузырьком\n"
   ]
  },
  {
   "cell_type": "markdown",
   "metadata": {
    "slideshow": {
     "slide_type": "slide"
    }
   },
   "source": [
    "### Сортировка выбором\n",
    "\n",
    "#### Алгоритм:\n",
    "- находим индекс минимального элемента\n",
    "- меняем местами его с первым\n",
    "- продолжаем итерации для списка длины $n - 1$\n",
    "\n",
    "#### Сложность алгоритма:\n",
    "- Время $\\mathcal{O}(n^2)$\n",
    "- Дополнительная память $\\mathcal{O}(1)$"
   ]
  },
  {
   "cell_type": "code",
   "execution_count": 6,
   "metadata": {
    "slideshow": {
     "slide_type": "slide"
    }
   },
   "outputs": [],
   "source": [
    "def select_sort(b):\n",
    "    # работает как sorted\n",
    "    x = b[:]\n",
    "    n = len(x)\n",
    "    for i in range(n-1):\n",
    "        imin = i\n",
    "        for j in range(i, n):\n",
    "            if x[imin] > x[j]:\n",
    "                imin = j\n",
    "        x[i], x[imin] = x[imin], x[i]\n",
    "    return x"
   ]
  },
  {
   "cell_type": "code",
   "execution_count": 7,
   "metadata": {
    "slideshow": {
     "slide_type": "fragment"
    }
   },
   "outputs": [
    {
     "data": {
      "text/plain": [
       "[-2, 0, 1, 3, 4, 10]"
      ]
     },
     "execution_count": 7,
     "metadata": {},
     "output_type": "execute_result"
    }
   ],
   "source": [
    "x = [4, 10, -2, 3, 1, 0]\n",
    "select_sort(x)"
   ]
  },
  {
   "cell_type": "markdown",
   "metadata": {
    "slideshow": {
     "slide_type": "slide"
    }
   },
   "source": [
    "### Сортировка пузырьком\n",
    "\n",
    "#### Алгоритм:\n",
    "- **Правило**: левый элемент должен быть меньше правого\n",
    "- идем слева направо, проверяя каждую пару на соответствие правилу\n",
    "- при несоответствии меняем элементы местами\n",
    "- продолжаем итерации для списка длины $n - 1$\n",
    "- **Оптимизация**: на каждой итерации считаем количество элементов, которые поменялись. Если оно равняется нулю, то список уже отсортирован.\n",
    "\n",
    "#### Сложность алгоритма:\n",
    "- Время $\\mathcal{O}(n^2)$\n",
    "- Дополнительная память $\\mathcal{O}(1)$"
   ]
  },
  {
   "cell_type": "code",
   "execution_count": 10,
   "metadata": {
    "slideshow": {
     "slide_type": "slide"
    }
   },
   "outputs": [],
   "source": [
    "def bubble_sort(b):\n",
    "    x = b[:]\n",
    "    n = len(x)\n",
    "        \n",
    "    for i in range(n):\n",
    "        for j in range(n-i-1):\n",
    "            if x[j] > x[j+1]:\n",
    "                x[j], x[j+1] = x[j+1], x[j]\n",
    "#         print(f'iter={i}, {x}')\n",
    "    return x"
   ]
  },
  {
   "cell_type": "code",
   "execution_count": 11,
   "metadata": {
    "slideshow": {
     "slide_type": "fragment"
    }
   },
   "outputs": [
    {
     "data": {
      "text/plain": [
       "[-2, 0, 1, 3, 4, 10]"
      ]
     },
     "execution_count": 11,
     "metadata": {},
     "output_type": "execute_result"
    }
   ],
   "source": [
    "x = [4, 10, -2, 3, 1, 0]\n",
    "bubble_sort(x)"
   ]
  },
  {
   "cell_type": "markdown",
   "metadata": {
    "slideshow": {
     "slide_type": "slide"
    }
   },
   "source": [
    "### Сортировка вставками\n",
    "\n",
    "#### Алгоритм:\n",
    "- **Правило**: левый элемент должен быть меньше правого\n",
    "- На $i$ итерации рассматриваем $i+1$-й элемент и меняем его с соседом слева до тех пор, пока не между ними не будет выполнено правило\n",
    "- Проводим $n-1$ итерацию\n",
    "\n",
    "#### Сложность алгоритма:\n",
    "- Время $\\mathcal{O}(n^2)$\n",
    "- Дополнительная память $\\mathcal{O}(1)$"
   ]
  },
  {
   "cell_type": "code",
   "execution_count": 14,
   "metadata": {
    "slideshow": {
     "slide_type": "slide"
    }
   },
   "outputs": [],
   "source": [
    "def insert_sort(b):\n",
    "    x = b[:]\n",
    "    n = len(x)\n",
    "    \n",
    "    for i in range(1, n): ## максимальное значение i = n-1\n",
    "        j = i - 1\n",
    "        while j >= 0 and x[j] > x[j + 1] : ## x[-1]? x[-n]?\n",
    "            x[j], x[j + 1] = x[j+ 1], x[j]\n",
    "            j -= 1\n",
    "    return x"
   ]
  },
  {
   "cell_type": "code",
   "execution_count": 15,
   "metadata": {
    "slideshow": {
     "slide_type": "fragment"
    }
   },
   "outputs": [
    {
     "data": {
      "text/plain": [
       "[-2, 0, 1, 3, 4, 10]"
      ]
     },
     "execution_count": 15,
     "metadata": {},
     "output_type": "execute_result"
    }
   ],
   "source": [
    "x = [4, 10, -2, 3, 1, 0]\n",
    "insert_sort(x)"
   ]
  },
  {
   "cell_type": "markdown",
   "metadata": {
    "slideshow": {
     "slide_type": "slide"
    }
   },
   "source": [
    "### Время работы стандартной и квадратичной сортировок"
   ]
  },
  {
   "cell_type": "code",
   "execution_count": 19,
   "metadata": {
    "slideshow": {
     "slide_type": "fragment"
    }
   },
   "outputs": [
    {
     "name": "stdout",
     "output_type": "stream",
     "text": [
      "Insert sort time: 5.706234693527222\n",
      "Python sorted time: 0.0025458335876464844\n"
     ]
    }
   ],
   "source": [
    "from time import time\n",
    "from random import randint\n",
    "\n",
    "x = [randint(1, 10000) for i in range(10000)]\n",
    "begin = time()\n",
    "insert_sort(x)\n",
    "print(f'Insert sort time: {time() - begin}')\n",
    "\n",
    "begin = time()\n",
    "sorted(x)\n",
    "print(f'Python sorted time: {time() - begin}')\n"
   ]
  },
  {
   "cell_type": "markdown",
   "metadata": {
    "slideshow": {
     "slide_type": "slide"
    }
   },
   "source": [
    "Сортировку можно применять не только для чисел, но и строк. Тогда они по умолчанию будут отсортированы в лексикографическом порядке"
   ]
  },
  {
   "cell_type": "code",
   "execution_count": 26,
   "metadata": {
    "slideshow": {
     "slide_type": "fragment"
    }
   },
   "outputs": [
    {
     "data": {
      "text/plain": [
       "['a', 'abc', 'ar', 'bad', 'dd', 'drg', 'sdsdcsd']"
      ]
     },
     "execution_count": 26,
     "metadata": {},
     "output_type": "execute_result"
    }
   ],
   "source": [
    "strs = ['dd', 'abc', 'ar', 'bad', 'sdsdcsd', 'a', 'drg']\n",
    "insert_sort(strs)"
   ]
  },
  {
   "cell_type": "markdown",
   "metadata": {
    "slideshow": {
     "slide_type": "fragment"
    }
   },
   "source": [
    "Если мы хотим отсортировать по длине строк, то необходимо только изменить правило "
   ]
  },
  {
   "cell_type": "code",
   "execution_count": 27,
   "metadata": {
    "slideshow": {
     "slide_type": "fragment"
    }
   },
   "outputs": [
    {
     "data": {
      "text/plain": [
       "['a', 'dd', 'ar', 'abc', 'bad', 'drg', 'sdsdcsd']"
      ]
     },
     "execution_count": 27,
     "metadata": {},
     "output_type": "execute_result"
    }
   ],
   "source": [
    "def insert_sort_length(b):\n",
    "    x = b[:]\n",
    "    n = len(x)\n",
    "    \n",
    "    for i in range(1, n): ## максимальное значение i = n-1\n",
    "        j = i - 1\n",
    "        while j >= 0 and len(x[j]) > len(x[j + 1]) : ## x[-1]? x[-n]?\n",
    "            x[j], x[j + 1] = x[j+ 1], x[j]\n",
    "            j -= 1\n",
    "    return x\n",
    "\n",
    "insert_sort_length(strs)"
   ]
  },
  {
   "cell_type": "markdown",
   "metadata": {
    "slideshow": {
     "slide_type": "slide"
    }
   },
   "source": [
    "Плохо каждый раз писать новую функцию для изменения параметра сортировки, поэтому решением будет добавить параметр **key**, вместо которого будем передавать функцию, по которой мы хотим сортировать. По умолчанию будет обычный (лексикографический) порядок."
   ]
  },
  {
   "cell_type": "code",
   "execution_count": 32,
   "metadata": {
    "slideshow": {
     "slide_type": "fragment"
    }
   },
   "outputs": [
    {
     "name": "stdout",
     "output_type": "stream",
     "text": [
      "Sort by length: ['a', 'dd', 'ar', 'abc', 'bad', 'drg', 'sdsdcsd']\n",
      "Sort by alphabet: ['a', 'abc', 'ar', 'bad', 'dd', 'drg', 'sdsdcsd']\n"
     ]
    }
   ],
   "source": [
    "def insert_sort(b, key=lambda x: x):\n",
    "    x = b[:]\n",
    "    n = len(x)\n",
    "    \n",
    "    for i in range(1, n): ## максимальное значение i = n-1\n",
    "        j = i - 1\n",
    "        while j >= 0 and key(x[j]) > key(x[j + 1]) : ## x[-1]? x[-n]?\n",
    "            x[j], x[j + 1] = x[j+ 1], x[j]\n",
    "            j -= 1\n",
    "    return x\n",
    "\n",
    "print(f'Sort by length: {insert_sort(strs, key=len)}')\n",
    "print(f'Sort by alphabet: {insert_sort(strs)}')\n"
   ]
  },
  {
   "cell_type": "markdown",
   "metadata": {
    "slideshow": {
     "slide_type": "slide"
    }
   },
   "source": [
    "### Задачи на нахождение количества способов\n",
    "\n",
    "- Комбинаторные формулы $\\mathcal{O}(1)$\n",
    "- Динамическое программирование $\\mathcal{O}(n)$\n",
    "- Перебор $\\mathcal{O}(2^n)$"
   ]
  },
  {
   "cell_type": "markdown",
   "metadata": {
    "slideshow": {
     "slide_type": "slide"
    }
   },
   "source": [
    "### Задачи:\n",
    "\n",
    "1) Сколько существует последовательностей, состоящих из $0$ и $1$ длины $n$? \n",
    "\n",
    "- Ответ можно получить просто перебрав все последовательности. \n",
    "Сложность $\\mathcal{O}(2^n)$\n",
    "\n",
    "- Комбинаторная формула дает ответ $2^n$. \n",
    "Сложность $\\mathcal{O}(1)$"
   ]
  },
  {
   "cell_type": "markdown",
   "metadata": {
    "slideshow": {
     "slide_type": "slide"
    }
   },
   "source": [
    "### Задачи:\n",
    "\n",
    "2) Перечислить все последовательности, состоящие из $0$ и $1$ длины $n$? \n",
    "\n",
    "- Решаем с помощью рекурсивного перебора за $\\mathcal{O}(2^n)$"
   ]
  },
  {
   "cell_type": "code",
   "execution_count": 39,
   "metadata": {
    "slideshow": {
     "slide_type": "fragment"
    }
   },
   "outputs": [],
   "source": [
    "def seq_n(n, s = ''):\n",
    "    if n == 0:\n",
    "        print(s)\n",
    "        return\n",
    "    seq_n(n-1, s + '0')\n",
    "    seq_n(n-1, s + '1')"
   ]
  },
  {
   "cell_type": "code",
   "execution_count": 40,
   "metadata": {
    "slideshow": {
     "slide_type": "fragment"
    }
   },
   "outputs": [
    {
     "name": "stdout",
     "output_type": "stream",
     "text": [
      "000\n",
      "001\n",
      "010\n",
      "011\n",
      "100\n",
      "101\n",
      "110\n",
      "111\n"
     ]
    }
   ],
   "source": [
    "seq_n(3)"
   ]
  },
  {
   "cell_type": "markdown",
   "metadata": {
    "slideshow": {
     "slide_type": "slide"
    }
   },
   "source": [
    "### Задачи:\n",
    "\n",
    "3) Посчитать все последовательности, состоящие из $0$ и $1$ длины $n$, в которых ровно $k$ единиц.\n",
    "\n",
    "- Комбинаторное ответ $C_n^k$. Сложность $\\mathcal{O}(1)$\n",
    "\n",
    "- Решаем с помощью рекурсивного перебора за $\\mathcal{O}(2^n)$"
   ]
  },
  {
   "cell_type": "code",
   "execution_count": 65,
   "metadata": {
    "slideshow": {
     "slide_type": "slide"
    }
   },
   "outputs": [],
   "source": [
    "def combk(n, k, s = ''):\n",
    "    if n == 0:\n",
    "        global count\n",
    "        count += 1\n",
    "        return\n",
    "    \n",
    "    if k > 0:\n",
    "        combk(n-1, k - 1, s + '1')\n",
    "    \n",
    "    if n - k > 0: \n",
    "        combk(n-1, k, s + '0')"
   ]
  },
  {
   "cell_type": "code",
   "execution_count": 67,
   "metadata": {
    "slideshow": {
     "slide_type": "fragment"
    }
   },
   "outputs": [
    {
     "name": "stdout",
     "output_type": "stream",
     "text": [
      "Количество последовательность, посчитанных рекурсивно: 4950\n",
      "Количество последовательность, посчитанных по формуле: 4950\n"
     ]
    }
   ],
   "source": [
    "from math import factorial\n",
    "\n",
    "count = 0\n",
    "combk(100, 2)\n",
    "print(f'Количество последовательность, посчитанных рекурсивно: {count}')\n",
    "\n",
    "ans = factorial(100) // (factorial(2) * factorial(98))\n",
    "print(f'Количество последовательность, посчитанных по формуле: {ans}')"
   ]
  },
  {
   "cell_type": "markdown",
   "metadata": {
    "slideshow": {
     "slide_type": "slide"
    }
   },
   "source": [
    "### Задачи:\n",
    "\n",
    "4) Посчитать все последовательности, состоящие из $0$ и $1$ длины $n$, в которых $2$ единицы не стоят рядом.\n",
    "\n",
    "- Динамическое программирование! \n",
    "\n",
    "\n",
    "Пусть нам известны $f(n-1)$ - количество последовательностей, где 2 единицы не стоят рядом длины $n-1$, $f(n-2), ..., f(1)$. Выразим $f(n)$ через них. Есть 2 вида последовательностей\n",
    "$$\\text{начинающиеся с 0 --- } 0\\underbrace{\\cdots}_{n-1} \\text{ их f(n-1)}$$\n",
    "$$\\text{начинающиеся с 1 --- } 10\\underbrace{\\cdots}_{n-2} \\text{ их f(n-2)}$$\n",
    "\n",
    "Следовательно:\n",
    "\n",
    "$$ f(n) = f(n-1) + f(n-2) $$\n",
    "\n",
    "Начальные условия:\n",
    "\n",
    "$f(1) = 2, f(2) = 3$\n"
   ]
  },
  {
   "cell_type": "code",
   "execution_count": 74,
   "metadata": {
    "slideshow": {
     "slide_type": "slide"
    }
   },
   "outputs": [
    {
     "name": "stdout",
     "output_type": "stream",
     "text": [
      "8\n"
     ]
    }
   ],
   "source": [
    "def count_seq_2(n):\n",
    "    f = [0]*(n+1)\n",
    "    if n == 1:\n",
    "        return 2\n",
    "    if n == 2:\n",
    "        return 3\n",
    "    \n",
    "    f[1] = 2\n",
    "    f[2] = 3\n",
    "    for i in range(3, n+1):\n",
    "        f[i] = f[i-1] + f[i - 2]\n",
    "    return f[-1]\n",
    "\n",
    "print(count_seq_2(4))"
   ]
  },
  {
   "cell_type": "markdown",
   "metadata": {
    "slideshow": {
     "slide_type": "slide"
    }
   },
   "source": [
    "4.2) Посчитать все последовательности, состоящие из $0$ и $1$ длины $n$, в которых $3$ единицы не стоят рядом.\n",
    "\n",
    "- Аналогичные рассуждения приводят к формуле\n",
    "\n",
    "$$ f(n) = f(n-1) + f(n-2) + f(n-3) $$\n",
    "\n",
    "Начальные условия:\n",
    "\n",
    "$f(1) = 2, f(2) = 4, f(3) = 7$\n",
    "\n",
    "Количество начальных условий равно количеству значений необходимых для вычисления $f(n)$!!!"
   ]
  },
  {
   "cell_type": "code",
   "execution_count": 75,
   "metadata": {
    "slideshow": {
     "slide_type": "slide"
    }
   },
   "outputs": [
    {
     "name": "stdout",
     "output_type": "stream",
     "text": [
      "22\n"
     ]
    }
   ],
   "source": [
    "def count_seq_3(n):\n",
    "    f = [0]*(n+1)\n",
    "    if n == 1:\n",
    "        return 2\n",
    "    if n == 2:\n",
    "        return 4\n",
    "    if n == 3:\n",
    "        return 7\n",
    "    \n",
    "    f[1] = 2\n",
    "    f[2] = 3\n",
    "    f[3] = 7\n",
    "    for i in range(4, n+1):\n",
    "        f[i] = f[i-1] + f[i - 2] + f[i - 3]\n",
    "    return f[-1]\n",
    "\n",
    "print(count_seq_3(5))"
   ]
  },
  {
   "cell_type": "markdown",
   "metadata": {
    "slideshow": {
     "slide_type": "slide"
    }
   },
   "source": [
    "### Задачи о наилучшем способе:\n",
    "\n",
    "1) Петя поднимается по ступенькам. Он может шагать по каждой, либо перепрыгивать через одну. Заданы стоимости прохода через каждую ступеньку. Необходимо найти минимальную стоимость прохода по лестнице.\n",
    "\n",
    "- Пусть нам известны: \n",
    "\n",
    "$f(n-1)$ - минимальная стоимость прохода по лестнице длины $n-1, f(n-2), ..., f(1)$. \n",
    "\n",
    "$c[1], ..., c[n]$ -- стоимость каждой ступеньки. \n",
    "\n",
    "$$f(n) = \\min{(f(n-1), f(n-2))} + c[n] $$\n",
    "\n",
    "Начальные значения:\n",
    "\n",
    "$f(1) = c[1]$\n",
    "\n",
    "$f(2) = c[2]$"
   ]
  },
  {
   "cell_type": "code",
   "execution_count": 80,
   "metadata": {
    "slideshow": {
     "slide_type": "slide"
    }
   },
   "outputs": [
    {
     "name": "stdout",
     "output_type": "stream",
     "text": [
      "9\n"
     ]
    }
   ],
   "source": [
    "# +1 и +2 \n",
    "def up_staircase(costs):\n",
    "    costs.append(0)\n",
    "    n = len(costs)\n",
    "    f = [0]*(n+1)\n",
    "    f[1] = costs[0]\n",
    "    f[2] = costs[1]\n",
    "    for i in range(3, n+1):\n",
    "        f[i] = min(f[i-1], f[i -2]) + costs[i - 1]\n",
    "    return f[-1]\n",
    "\n",
    "costs = [4, 2, 5, 3, 10, 4, 2]\n",
    "print(up_staircase(costs))"
   ]
  },
  {
   "cell_type": "markdown",
   "metadata": {
    "slideshow": {
     "slide_type": "slide"
    }
   },
   "source": [
    "### Задачи о наилучшем способе:\n",
    "\n",
    "Если добавить Пете возможность перешагивать через 2 ступеньки (+3), то формула примет вид:\n",
    "\n",
    " $$f(n) = \\min{(f(n-1), f(n-2), f(n-3)} + c[n] $$ "
   ]
  },
  {
   "cell_type": "code",
   "execution_count": 83,
   "metadata": {
    "slideshow": {
     "slide_type": "fragment"
    }
   },
   "outputs": [
    {
     "name": "stdout",
     "output_type": "stream",
     "text": [
      "7\n"
     ]
    }
   ],
   "source": [
    "# +1, +2 и +3\n",
    "def up_staircase_2(costs):\n",
    "    n = len(costs)\n",
    "    f = [0]*(n+1)\n",
    "    f[1] = costs[0]\n",
    "    f[2] = costs[1]\n",
    "    f[3] = costs[2]\n",
    "    for i in range(4, n+1):\n",
    "        f[i] = min(f[i-1], f[i -2], f[i-3]) + costs[i - 1]\n",
    "    return min(f[-1], f[-2], f[-3])\n",
    "\n",
    "costs = [4, 2, 5, 3, 10, 4, 2]\n",
    "print(up_staircase_2(costs))"
   ]
  },
  {
   "cell_type": "code",
   "execution_count": 84,
   "metadata": {
    "slideshow": {
     "slide_type": "fragment"
    }
   },
   "outputs": [
    {
     "name": "stdout",
     "output_type": "stream",
     "text": [
      "4\n",
      "3\n"
     ]
    }
   ],
   "source": [
    "new_costs = [2, 3, 1000, 1, 4] \n",
    "print(up_staircase(new_costs))\n",
    "print(up_staircase_2(new_costs))"
   ]
  },
  {
   "cell_type": "markdown",
   "metadata": {
    "slideshow": {
     "slide_type": "slide"
    }
   },
   "source": [
    "### Задачи о наилучшем способе:\n",
    "\n",
    "2) Как выяснить по каким ступенькам необходимо пройти, чтобы заплатить минимальную стоимость?\n",
    "\n",
    "- Решаем задачу по поиску минимальной стоимости пути. \n",
    "- Идем обратно: на ступеньку $n$ мы попали либо из $n-1$ либо $n-2$. На самом деле, где значение $f$ меньше, оттуда мы и попали. Запоминаем эту ступеньку и вычисляем, как мы попали в нее и т.д. до начальной"
   ]
  },
  {
   "cell_type": "code",
   "execution_count": 86,
   "metadata": {
    "slideshow": {
     "slide_type": "slide"
    }
   },
   "outputs": [],
   "source": [
    "def up_staircase_1(costs):\n",
    "    costs.append(0)\n",
    "    n = len(costs)\n",
    "    f = [0]*(n+1)\n",
    "    f[1] = costs[0]\n",
    "    f[2] = costs[1]\n",
    "    for i in range(3, n+1):\n",
    "        f[i] = min(f[i-1], f[i -2]) + costs[i - 1]\n",
    "        \n",
    "    cur_index = n\n",
    "    path = []\n",
    "    while cur_index > 0:\n",
    "        path.append(cur_index)\n",
    "        if f[cur_index] - costs[cur_index - 1] == f[cur_index - 1]:\n",
    "            cur_index -= 1\n",
    "        elif f[cur_index] - costs[cur_index - 1] == f[cur_index - 2]:\n",
    "            cur_index -= 2\n",
    "    \n",
    "    return f[-1], path[::-1]\n",
    "\n",
    "x = [2, 3, 1000, 1, 4] \n",
    "up_staircase_1(x)"
   ]
  },
  {
   "cell_type": "code",
   "execution_count": 12,
   "metadata": {
    "slideshow": {
     "slide_type": "fragment"
    }
   },
   "outputs": [
    {
     "data": {
      "text/plain": [
       "(67, [2, 4, 5, 7, 9, 10, 12, 14, 16])"
      ]
     },
     "execution_count": 12,
     "metadata": {},
     "output_type": "execute_result"
    }
   ],
   "source": [
    "from random import randint\n",
    "costs = [randint(1, 20) for i in range(15)]\n",
    "up_staircase_1(costs)"
   ]
  },
  {
   "cell_type": "code",
   "execution_count": 89,
   "metadata": {
    "slideshow": {
     "slide_type": "notes"
    }
   },
   "outputs": [
    {
     "data": {
      "text/html": [
       "<link href='http://fonts.googleapis.com/css?family=Fenix' rel='stylesheet' type='text/css'>\n",
       "<link href='http://fonts.googleapis.com/css?family=Alegreya+Sans:100,300,400,500,700,800,900,100italic,300italic,400italic,500italic,700italic,800italic,900italic' rel='stylesheet' type='text/css'>\n",
       "<link href='http://fonts.googleapis.com/css?family=Source+Code+Pro:300,400' rel='stylesheet' type='text/css'>\n",
       "<style>\n",
       "    @font-face {\n",
       "        font-family: \"Computer Modern\";\n",
       "        src: url('http://mirrors.ctan.org/fonts/cm-unicode/fonts/otf/cmunss.otf');\n",
       "    }\n",
       "    div.cell{\n",
       "        /*width:80%;*/\n",
       "        /*margin-left:auto !important;\n",
       "        margin-right:auto;*/\n",
       "    }\n",
       "    h1 {\n",
       "        font-family: 'Alegreya Sans', sans-serif;\n",
       "    }\n",
       "    h2 {\n",
       "        font-family: 'Fenix', serif;\n",
       "    }\n",
       "    h3{\n",
       "\t\tfont-family: 'Fenix', serif;\n",
       "        margin-top:12px;\n",
       "        margin-bottom: 3px;\n",
       "       }\n",
       "\th4{\n",
       "\t\tfont-family: 'Fenix', serif;\n",
       "       }\n",
       "    h5 {\n",
       "        font-family: 'Alegreya Sans', sans-serif;\n",
       "    }\t   \n",
       "    div.text_cell_render{\n",
       "        font-family: 'Alegreya Sans',Computer Modern, \"Helvetica Neue\", Arial, Helvetica, Geneva, sans-serif;\n",
       "        line-height: 1.2;\n",
       "        font-size: 120%;\n",
       "        /*width:70%;*/\n",
       "        /*margin-left:auto;*/\n",
       "        margin-right:auto;\n",
       "    }\n",
       "    .CodeMirror{\n",
       "            font-family: \"Source Code Pro\";\n",
       "\t\t\tfont-size: 90%;\n",
       "    }\n",
       "/*    .prompt{\n",
       "        display: None;\n",
       "    }*/\n",
       "    .text_cell_render h1 {\n",
       "        font-weight: 200;\n",
       "        font-size: 50pt;\n",
       "\t\tline-height: 110%;\n",
       "        color:#CD2305;\n",
       "        margin-bottom: 0.5em;\n",
       "        margin-top: 0.5em;\n",
       "        display: block;\n",
       "    }\t\n",
       "    .text_cell_render h5 {\n",
       "        font-weight: 300;\n",
       "        font-size: 16pt;\n",
       "        color: #CD2305;\n",
       "        font-style: italic;\n",
       "        margin-bottom: .5em;\n",
       "        margin-top: 0.5em;\n",
       "        display: block;\n",
       "    }\n",
       "    \n",
       "    li {\n",
       "        line-height: 110%;\n",
       "    }\n",
       "    .warning{\n",
       "        color: rgb( 240, 20, 20 )\n",
       "        }  \n",
       "\n",
       "</style>\n",
       "\n",
       "<script>\n",
       "    MathJax.Hub.Config({\n",
       "                        TeX: {\n",
       "                           extensions: [\"AMSmath.js\"]\n",
       "                           },\n",
       "                tex2jax: {\n",
       "                    inlineMath: [ ['$','$'], [\"\\\\(\",\"\\\\)\"] ],\n",
       "                    displayMath: [ ['$$','$$'], [\"\\\\[\",\"\\\\]\"] ]\n",
       "                },\n",
       "                displayAlign: 'center', // Change this to 'center' to center equations.\n",
       "                \"HTML-CSS\": {\n",
       "                    styles: {'.MathJax_Display': {\"margin\": 4}}\n",
       "                }\n",
       "        });\n",
       "</script>\n"
      ],
      "text/plain": [
       "<IPython.core.display.HTML object>"
      ]
     },
     "execution_count": 89,
     "metadata": {},
     "output_type": "execute_result"
    }
   ],
   "source": [
    "from IPython.core.display import HTML\n",
    "def css_styling():\n",
    "    styles = open(\"./styles/custom.css\", \"r\").read()\n",
    "    return HTML(styles)\n",
    "css_styling()"
   ]
  }
 ],
 "metadata": {
  "celltoolbar": "Slideshow",
  "kernelspec": {
   "display_name": "Python 3",
   "language": "python",
   "name": "python3"
  },
  "language_info": {
   "codemirror_mode": {
    "name": "ipython",
    "version": 3
   },
   "file_extension": ".py",
   "mimetype": "text/x-python",
   "name": "python",
   "nbconvert_exporter": "python",
   "pygments_lexer": "ipython3",
   "version": "3.6.7"
  }
 },
 "nbformat": 4,
 "nbformat_minor": 2
}
