{
 "cells": [
  {
   "cell_type": "code",
   "execution_count": 1,
   "metadata": {
    "slideshow": {
     "slide_type": "skip"
    }
   },
   "outputs": [
    {
     "data": {
      "text/plain": [
       "{'scroll': True,\n",
       " 'start_slideshow_at': 'selected',\n",
       " 'theme': 'sky',\n",
       " 'transition': 'zoom'}"
      ]
     },
     "execution_count": 1,
     "metadata": {},
     "output_type": "execute_result"
    }
   ],
   "source": [
    "from traitlets.config.manager import BaseJSONConfigManager\n",
    "cm = BaseJSONConfigManager()\n",
    "cm.update('livereveal', {\n",
    "              'theme': 'sky',\n",
    "              'transition': 'zoom',\n",
    "              'start_slideshow_at': 'selected',\n",
    "            'scroll': True\n",
    "})"
   ]
  },
  {
   "cell_type": "markdown",
   "metadata": {
    "slideshow": {
     "slide_type": "slide"
    }
   },
   "source": [
    "# Занятие 14. \n",
    "\n",
    "## Линейные задачи.\n"
   ]
  },
  {
   "cell_type": "markdown",
   "metadata": {
    "slideshow": {
     "slide_type": "slide"
    }
   },
   "source": [
    "## План занятия\n",
    "\n",
    "- повторение\n",
    "- линейные задачи\n",
    "- метод двух указателей"
   ]
  },
  {
   "cell_type": "markdown",
   "metadata": {
    "slideshow": {
     "slide_type": "slide"
    }
   },
   "source": [
    "### Задачи о количестве и наилучшем способе \n",
    "- Перебор $\\mathcal{O}(2^n)$\n",
    "- Динамическое программирование $\\mathcal{O}(n)$\n",
    "- Формула $\\mathcal{O}(1)$"
   ]
  },
  {
   "cell_type": "markdown",
   "metadata": {
    "slideshow": {
     "slide_type": "fragment"
    }
   },
   "source": [
    "Принцип ДП --- использование предпосчета для вычисления новых значений"
   ]
  },
  {
   "cell_type": "markdown",
   "metadata": {
    "slideshow": {
     "slide_type": "slide"
    }
   },
   "source": [
    "### Линейные задачи"
   ]
  },
  {
   "cell_type": "markdown",
   "metadata": {
    "slideshow": {
     "slide_type": "fragment"
    }
   },
   "source": [
    "$f(x) = kx + b$ --- линейная функция"
   ]
  },
  {
   "cell_type": "markdown",
   "metadata": {
    "slideshow": {
     "slide_type": "fragment"
    }
   },
   "source": [
    "Аналогично, линейные задачи --- это задачи, требующие $\\mathcal{O}(n)$ вычислений. \n",
    "\n",
    "$$ 5n + 3 = \\mathcal{O}(n) $$\n",
    "$$ 3n^2 + 2n = \\mathcal{O}(n^2) \\text{ --- квадратичная сложность}$$"
   ]
  },
  {
   "cell_type": "markdown",
   "metadata": {
    "slideshow": {
     "slide_type": "slide"
    }
   },
   "source": [
    "####  Пройденные линейные алгоритмы:\n",
    "- одномерное динамическое программирование\n",
    "- нахождение max/min\n",
    "- сумма/произведение\n",
    "- линейный поиск"
   ]
  },
  {
   "cell_type": "markdown",
   "metadata": {
    "slideshow": {
     "slide_type": "slide"
    }
   },
   "source": [
    "### Задачи\n",
    "1) Подается $N-1$ число на вход из $\\{1, ..., N\\}$. Все числа различны. Какого числа не хватает? "
   ]
  },
  {
   "cell_type": "markdown",
   "metadata": {
    "slideshow": {
     "slide_type": "slide"
    }
   },
   "source": [
    "#### Решение\n",
    "- Посчитать сумму в массиве $S$. \n",
    "$\\frac{N(N-1)}{2} - S - x = 0$\n",
    "\n",
    "Время - $\\mathcal{O}(n)$, память - $\\mathcal{O}(1)$\n",
    "- Заводим массив $\\textbf{A}$ длины N и заполняем 0-ками. Проходим по массиву данных и ставим 1 в соответствующий элемент массива $\\textbf{A}$\n",
    "\n",
    "Время - $\\mathcal{O}(n)$, память - $\\mathcal{O}(n)$"
   ]
  },
  {
   "cell_type": "code",
   "execution_count": 3,
   "metadata": {
    "slideshow": {
     "slide_type": "fragment"
    }
   },
   "outputs": [
    {
     "name": "stdout",
     "output_type": "stream",
     "text": [
      "1 3 4 5\n",
      "2\n"
     ]
    }
   ],
   "source": [
    "a = list(map(int, input().split()))\n",
    "boollist = [0 for i in range(len(a) + 1)]\n",
    "for i in a:\n",
    "    boollist[i - 1] = 1\n",
    "print(boollist.index(0)+ 1)"
   ]
  },
  {
   "cell_type": "markdown",
   "metadata": {
    "slideshow": {
     "slide_type": "slide"
    }
   },
   "source": [
    "### Задачи\n",
    "2) Подается массив длины $N$ и число $k < N$. Требуется посчитать все суммы вида $a[i:i+k]$"
   ]
  },
  {
   "cell_type": "markdown",
   "metadata": {
    "slideshow": {
     "slide_type": "slide"
    }
   },
   "source": [
    "#### Решение\n",
    "- \"Наивное\" -- вложенные for.\n",
    "\n",
    "Сложность $\\mathcal{O}(nk)$ нелинейное, если $k = n/2$"
   ]
  },
  {
   "cell_type": "code",
   "execution_count": 5,
   "metadata": {
    "slideshow": {
     "slide_type": "fragment"
    }
   },
   "outputs": [
    {
     "name": "stdout",
     "output_type": "stream",
     "text": [
      "[3, -1, 3, 7]\n"
     ]
    }
   ],
   "source": [
    "# x = list(map(int, input().split()))\n",
    "x = [2, 1, 0, -2, 5, 4]\n",
    "# k = int(input())\n",
    "k = 3\n",
    "result=  [0]*(len(x) - k + 1)\n",
    "for i in range(len(x) - k + 1):\n",
    "    for j in range(k):\n",
    "        result[i] += x[i+j] \n",
    "print(result)"
   ]
  },
  {
   "cell_type": "markdown",
   "metadata": {
    "slideshow": {
     "slide_type": "slide"
    }
   },
   "source": [
    "- $a[m+1] = a[m] - x[m] - x[m+k]$, где $\\textbf{a}$ -- массив частичных сумм"
   ]
  },
  {
   "cell_type": "code",
   "execution_count": 6,
   "metadata": {
    "slideshow": {
     "slide_type": "fragment"
    }
   },
   "outputs": [
    {
     "name": "stdout",
     "output_type": "stream",
     "text": [
      "[3, -1, 3, 7]\n"
     ]
    }
   ],
   "source": [
    "n = len(x)\n",
    "result = [0]*(n - k + 1)\n",
    "for i in range(k):\n",
    "    result[0] += x[i]\n",
    "for i in range(1, n-k+1):\n",
    "    result[i] = result[i-1] - x[i-1] + x[i + k -1]\n",
    "print(result)"
   ]
  },
  {
   "cell_type": "markdown",
   "metadata": {
    "slideshow": {
     "slide_type": "slide"
    }
   },
   "source": [
    "### Онлайн-задачи\n",
    "\n",
    "Во время выполнения задачи поступают запросы на которые необходимо отвечать. Пример: 'i, j' -> sum(a[i:j+1])"
   ]
  },
  {
   "cell_type": "markdown",
   "metadata": {
    "slideshow": {
     "slide_type": "slide"
    }
   },
   "source": [
    "### Задачи\n",
    "3) Подается массив длины $N$ и $Q$ запросов вида $(i, j)$ Требуется вернуть на каждый запрос сумму $a[i:j+1]$"
   ]
  },
  {
   "cell_type": "markdown",
   "metadata": {
    "slideshow": {
     "slide_type": "slide"
    }
   },
   "source": [
    "#### Решение\n",
    "- Для каждого запроса вызываем функцию sum(a[i, j+1])\n",
    "\n",
    "Сложность $\\mathcal{O}(N\\cdot Q)$"
   ]
  },
  {
   "cell_type": "markdown",
   "metadata": {
    "slideshow": {
     "slide_type": "slide"
    }
   },
   "source": [
    "- Научимся тратить на все запросы время $\\mathcal{O}(Q) \\Rightarrow$ отвечать на запрос за $\\mathcal{O}(1)$. Следовательно нужен предподсчет данных!\n",
    "\n",
    "- Для каждой пары $(i, j)$ посчитаем сумму на этом отрезке и запишем в табличку\n",
    "- Время на предподсчет $\\mathcal{O}(N^2)$, время на запросы $\\mathcal{O}(Q)$\n",
    "\n",
    "Сложность $\\mathcal{O}(N^2 + Q)$"
   ]
  },
  {
   "cell_type": "markdown",
   "metadata": {
    "slideshow": {
     "slide_type": "slide"
    }
   },
   "source": [
    "- Вычислим массив $\\textbf{b}$, такой что $b[k] = a[0] + ... + a[k]$ за  $\\mathcal{O}(N)$\n",
    "- $a[i] + ... + a[j] = b[j] - b[i - 1]$ за  $\\mathcal{O}(1)$\n",
    "\n",
    "Сложность $\\mathcal{O}(N + Q)$"
   ]
  },
  {
   "cell_type": "code",
   "execution_count": 7,
   "metadata": {
    "slideshow": {
     "slide_type": "fragment"
    }
   },
   "outputs": [
    {
     "name": "stdout",
     "output_type": "stream",
     "text": [
      "[0, 2, 3, 3, 1, 6, 16, 2, 9]\n"
     ]
    }
   ],
   "source": [
    "x = [2, 1, 0, -2, 5, 10, -14, 7]\n",
    "n = len(x)\n",
    "b = [0]*(n+1)\n",
    "for i in range(1,n+1):\n",
    "    b[i] = b[i-1] + x[i-1]\n",
    "print(b)"
   ]
  },
  {
   "cell_type": "code",
   "execution_count": 8,
   "metadata": {
    "slideshow": {
     "slide_type": "fragment"
    }
   },
   "outputs": [
    {
     "name": "stdout",
     "output_type": "stream",
     "text": [
      "0 3\n",
      "1\n",
      "2 7\n",
      "6\n"
     ]
    }
   ],
   "source": [
    "for k in range(2):\n",
    "    i, j = map(int, input().split())\n",
    "    print(b[j+1] - b[i])"
   ]
  },
  {
   "cell_type": "markdown",
   "metadata": {
    "slideshow": {
     "slide_type": "slide"
    }
   },
   "source": [
    "#### Метод двух указателей"
   ]
  },
  {
   "cell_type": "markdown",
   "metadata": {
    "slideshow": {
     "slide_type": "slide"
    }
   },
   "source": [
    "### Задачи\n",
    "4) Подаётся два $\\textbf{упорядоченных}$ списка из целых чисел A, B. Требуется найти\n",
    "$$(x,y): x \\in A, y \\in B \\text{ и } |x - y| = min$$"
   ]
  },
  {
   "cell_type": "markdown",
   "metadata": {
    "slideshow": {
     "slide_type": "slide"
    }
   },
   "source": [
    "#### Решение\n",
    "- перебрать все возможные пары чисел \n",
    "\n",
    "Сложность $\\mathcal{O}(a\\cdot b)$"
   ]
  },
  {
   "cell_type": "markdown",
   "metadata": {
    "slideshow": {
     "slide_type": "slide"
    }
   },
   "source": [
    "#### метод \"двух указателей\"\n",
    "- инициализируем указатели на начале обоих массивов\n",
    "- сравниваем значения, обновляем минимум (если необходимо)\n",
    "- двигаем тот указатель, значение которого меньше \n",
    "- продолжаем шаги до тех пор, пока одному из указателей некуда будет двигаться\n",
    "\n",
    "Сложность $\\mathcal{O}(a + b)$"
   ]
  },
  {
   "cell_type": "markdown",
   "metadata": {
    "slideshow": {
     "slide_type": "slide"
    }
   },
   "source": [
    "### Задачи\n",
    "5) Подаётся два $\\textbf{упорядоченных}$ списка из целых чисел A, B. Требуется получить отсортированный список из значений массивов А и В."
   ]
  },
  {
   "cell_type": "markdown",
   "metadata": {
    "slideshow": {
     "slide_type": "slide"
    }
   },
   "source": [
    "#### Решение\n",
    "- sorted(a + b)\n",
    "\n",
    "Сложность $\\mathcal{O}(n\\cdot log (n))$"
   ]
  },
  {
   "cell_type": "markdown",
   "metadata": {
    "slideshow": {
     "slide_type": "slide"
    }
   },
   "source": [
    "#### метод \"двух указателей\"\n",
    "- инициализируем указатели на начале обоих массивов\n",
    "- сравниваем значения, записываем наименьшее в итоговый массив\n",
    "- двигаем тот указатель, значение которого меньше \n",
    "- продолжаем шаги до тех пор, пока одному из указателей некуда будет двигаться\n",
    "Сложность $\\mathcal{O}(a + b)$"
   ]
  },
  {
   "cell_type": "code",
   "execution_count": 9,
   "metadata": {
    "slideshow": {
     "slide_type": "fragment"
    }
   },
   "outputs": [
    {
     "name": "stdout",
     "output_type": "stream",
     "text": [
      "-2 4 6\n",
      "0 1 7 8\n",
      "-2 0 1 4 6 7 8\n"
     ]
    }
   ],
   "source": [
    "def mergesort(a, b):\n",
    "    i = j = 0\n",
    "    result = [0]*(len(a) + len(b))\n",
    "    while i < len(a) and j < len(b):\n",
    "        if a[i] < b[j]:\n",
    "            result[i+j] = a[i]\n",
    "            i += 1\n",
    "        else:\n",
    "            result[i+j] = b[j]\n",
    "            j += 1\n",
    "    if i == len(a):\n",
    "        result[i+j:] = b[j:]\n",
    "    else:\n",
    "        result[j+i:] = a[i:]\n",
    "    return result\n",
    "\n",
    "a = list(map(int, input().split()))\n",
    "b = list(map(int, input().split()))\n",
    "print(*mergesort(a, b))"
   ]
  },
  {
   "cell_type": "code",
   "execution_count": 2,
   "metadata": {
    "slideshow": {
     "slide_type": "notes"
    }
   },
   "outputs": [
    {
     "data": {
      "text/html": [
       "<link href='http://fonts.googleapis.com/css?family=Fenix' rel='stylesheet' type='text/css'>\n",
       "<link href='http://fonts.googleapis.com/css?family=Alegreya+Sans:100,300,400,500,700,800,900,100italic,300italic,400italic,500italic,700italic,800italic,900italic' rel='stylesheet' type='text/css'>\n",
       "<link href='http://fonts.googleapis.com/css?family=Source+Code+Pro:300,400' rel='stylesheet' type='text/css'>\n",
       "<style>\n",
       "    @font-face {\n",
       "        font-family: \"Computer Modern\";\n",
       "        src: url('http://mirrors.ctan.org/fonts/cm-unicode/fonts/otf/cmunss.otf');\n",
       "    }\n",
       "    div.cell{\n",
       "        /*width:80%;*/\n",
       "        /*margin-left:auto !important;\n",
       "        margin-right:auto;*/\n",
       "    }\n",
       "    h1 {\n",
       "        font-family: 'Alegreya Sans', sans-serif;\n",
       "    }\n",
       "    h2 {\n",
       "        font-family: 'Fenix', serif;\n",
       "    }\n",
       "    h3{\n",
       "\t\tfont-family: 'Fenix', serif;\n",
       "        margin-top:12px;\n",
       "        margin-bottom: 3px;\n",
       "       }\n",
       "\th4{\n",
       "\t\tfont-family: 'Fenix', serif;\n",
       "       }\n",
       "    h5 {\n",
       "        font-family: 'Alegreya Sans', sans-serif;\n",
       "    }\t   \n",
       "    div.text_cell_render{\n",
       "        font-family: 'Alegreya Sans',Computer Modern, \"Helvetica Neue\", Arial, Helvetica, Geneva, sans-serif;\n",
       "        line-height: 1.2;\n",
       "        font-size: 120%;\n",
       "        /*width:70%;*/\n",
       "        /*margin-left:auto;*/\n",
       "        margin-right:auto;\n",
       "    }\n",
       "    .CodeMirror{\n",
       "            font-family: \"Source Code Pro\";\n",
       "\t\t\tfont-size: 90%;\n",
       "    }\n",
       "/*    .prompt{\n",
       "        display: None;\n",
       "    }*/\n",
       "    .text_cell_render h1 {\n",
       "        font-weight: 200;\n",
       "        font-size: 50pt;\n",
       "\t\tline-height: 110%;\n",
       "        color:#CD2305;\n",
       "        margin-bottom: 0.5em;\n",
       "        margin-top: 0.5em;\n",
       "        display: block;\n",
       "    }\t\n",
       "    .text_cell_render h5 {\n",
       "        font-weight: 300;\n",
       "        font-size: 16pt;\n",
       "        color: #CD2305;\n",
       "        font-style: italic;\n",
       "        margin-bottom: .5em;\n",
       "        margin-top: 0.5em;\n",
       "        display: block;\n",
       "    }\n",
       "    \n",
       "    li {\n",
       "        line-height: 110%;\n",
       "    }\n",
       "    .warning{\n",
       "        color: rgb( 240, 20, 20 )\n",
       "        }  \n",
       "\n",
       "</style>\n",
       "\n",
       "<script>\n",
       "    MathJax.Hub.Config({\n",
       "                        TeX: {\n",
       "                           extensions: [\"AMSmath.js\"]\n",
       "                           },\n",
       "                tex2jax: {\n",
       "                    inlineMath: [ ['$','$'], [\"\\\\(\",\"\\\\)\"] ],\n",
       "                    displayMath: [ ['$$','$$'], [\"\\\\[\",\"\\\\]\"] ]\n",
       "                },\n",
       "                displayAlign: 'center', // Change this to 'center' to center equations.\n",
       "                \"HTML-CSS\": {\n",
       "                    styles: {'.MathJax_Display': {\"margin\": 4}}\n",
       "                }\n",
       "        });\n",
       "</script>\n"
      ],
      "text/plain": [
       "<IPython.core.display.HTML object>"
      ]
     },
     "execution_count": 2,
     "metadata": {},
     "output_type": "execute_result"
    }
   ],
   "source": [
    "from IPython.core.display import HTML\n",
    "def css_styling():\n",
    "    styles = open(\"./styles/custom.css\", \"r\").read()\n",
    "    return HTML(styles)\n",
    "css_styling()"
   ]
  }
 ],
 "metadata": {
  "celltoolbar": "Slideshow",
  "kernelspec": {
   "display_name": "dmia",
   "language": "python",
   "name": "dmia"
  },
  "language_info": {
   "codemirror_mode": {
    "name": "ipython",
    "version": 3
   },
   "file_extension": ".py",
   "mimetype": "text/x-python",
   "name": "python",
   "nbconvert_exporter": "python",
   "pygments_lexer": "ipython3",
   "version": "3.6.7"
  }
 },
 "nbformat": 4,
 "nbformat_minor": 2
}
